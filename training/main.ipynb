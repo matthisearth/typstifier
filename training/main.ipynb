{
 "cells": [
  {
   "cell_type": "code",
   "execution_count": 1,
   "metadata": {},
   "outputs": [],
   "source": [
    "# typstifier\n",
    "# training/main.ipynb"
   ]
  },
  {
   "cell_type": "code",
   "execution_count": 2,
   "metadata": {},
   "outputs": [],
   "source": [
    "import numpy as np\n",
    "import jax.numpy as jnp\n",
    "from flax import nnx\n",
    "import matplotlib.pyplot as plt\n",
    "import pickle\n",
    "import optax\n",
    "import model as m\n",
    "\n",
    "np.random.seed(41)"
   ]
  },
  {
   "cell_type": "code",
   "execution_count": 3,
   "metadata": {},
   "outputs": [
    {
     "name": "stdout",
     "output_type": "stream",
     "text": [
      "Image size: 64x64\n",
      "Dataset sizes: train 33000, val 4125, test 4125\n",
      "Number of symbols: 825\n",
      "Cross entropy loss for random selection: 6.715\n"
     ]
    }
   ],
   "source": [
    "with open(\"numpydata.pkl\", \"rb\") as f:\n",
    "    (xs_all, ys_all) = pickle.load(f)\n",
    "\n",
    "img_size = xs_all.shape[1]\n",
    "total_img_num = xs_all.shape[0]\n",
    "total_sym_num = ys_all.shape[1]\n",
    "\n",
    "def unison_shuffled(a, b):\n",
    "    rng_state = np.random.get_state()\n",
    "    np.random.shuffle(a)\n",
    "    np.random.set_state(rng_state)\n",
    "    np.random.shuffle(b)\n",
    "\n",
    "def prepare_batch(xs, ys, u, v):\n",
    "    len_tot = xs.shape[0]\n",
    "    u_trunc, v_trunc = u % len_tot, v % len_tot\n",
    "\n",
    "    if u_trunc == 0 and u > 0:\n",
    "        unison_shuffled(xs, ys)\n",
    "    \n",
    "    if v_trunc == u_trunc + (v - u):\n",
    "        xs_o = xs[u_trunc:v_trunc, ...]\n",
    "        ys_o = ys[u_trunc:v_trunc, ...]\n",
    "    else:\n",
    "        xs_first = xs[u_trunc:, ...]\n",
    "        ys_first = ys[u_trunc:, ...]\n",
    "        unison_shuffled(xs, ys)\n",
    "        xs_second = xs[:v_trunc, ...]\n",
    "        ys_second = ys[:v_trunc, ...]\n",
    "        xs_o = np.concatenate([xs_first, xs_second])\n",
    "        ys_o = np.concatenate([ys_first, ys_second])\n",
    "       \n",
    "    return jnp.array(xs_o), jnp.array(ys_o)\n",
    "\n",
    "unison_shuffled(xs_all, ys_all)\n",
    "u, v = int(0.8 * total_img_num), int(0.9 * total_img_num)\n",
    "xs_train, ys_train = xs_all[:u, ...], ys_all[:u, ...]\n",
    "xs_val, ys_val = xs_all[u:v, ...], ys_all[u:v, ...]\n",
    "xs_test, ys_test = xs_all[v:, ...], ys_all[v:, ...]\n",
    "\n",
    "print(f\"Image size: {img_size}x{img_size}\")\n",
    "print(f\"Dataset sizes: train {u}, val {v - u}, test {total_img_num - v}\")\n",
    "print(f\"Number of symbols: {total_sym_num}\")\n",
    "print(f\"Cross entropy loss for random selection: {np.log(total_sym_num):.3f}\")"
   ]
  },
  {
   "cell_type": "code",
   "execution_count": 4,
   "metadata": {},
   "outputs": [],
   "source": [
    "model = m.ConvNet(rngs = nnx.Rngs(42))\n",
    "gradient_transform = optax.chain(\n",
    "    optax.clip_by_global_norm(1.0),\n",
    "    optax.adamw(1e-3, weight_decay = 1e-2),\n",
    ")\n",
    "optimizer = nnx.Optimizer(model, gradient_transform)\n",
    "total = 500_000\n",
    "batch_size = 32\n",
    "\n",
    "@nnx.jit\n",
    "def train_step(model, optimizer, x, y):\n",
    "    loss, grads = nnx.value_and_grad(m.loss_fn)(model, x, y)\n",
    "    optimizer.update(grads)\n",
    "    return loss, optax.tree_utils.tree_l2_norm(grads)\n",
    "\n",
    "@nnx.jit\n",
    "def eval_step(model, x, y):\n",
    "    return m.loss_fn(model, x, y)"
   ]
  },
  {
   "cell_type": "code",
   "execution_count": 5,
   "metadata": {},
   "outputs": [
    {
     "name": "stdout",
     "output_type": "stream",
     "text": [
      "1600000: train loss 2.497, train eval loss 1.297, val loss 1.623, grad norm 11.107\n",
      "3200000: train loss 2.167, train eval loss 1.007, val loss 1.295, grad norm 12.391\n",
      "4800000: train loss 2.029, train eval loss 0.882, val loss 1.191, grad norm 14.223\n",
      "6400000: train loss 1.922, train eval loss 0.822, val loss 1.138, grad norm 13.463\n",
      "8000000: train loss 1.892, train eval loss 0.774, val loss 1.090, grad norm 12.967\n",
      "9600000: train loss 1.875, train eval loss 0.758, val loss 1.070, grad norm 14.179\n",
      "11200000: train loss 1.811, train eval loss 0.712, val loss 1.042, grad norm 13.567\n",
      "12800000: train loss 1.776, train eval loss 0.708, val loss 1.030, grad norm 13.575\n",
      "14400000: train loss 1.779, train eval loss 0.670, val loss 1.008, grad norm 12.850\n",
      "16000000: train loss 1.791, train eval loss 0.691, val loss 0.989, grad norm 13.467\n"
     ]
    }
   ],
   "source": [
    "print_frequency = 50_000\n",
    "alpha = 0.99\n",
    "\n",
    "train_losses = []\n",
    "train_losses_eval = []\n",
    "val_losses = []\n",
    "grad_norms = []\n",
    "\n",
    "model.train() # Use dropout\n",
    "\n",
    "for i in range(total):\n",
    "    u, v = i * batch_size, (i + 1) * batch_size\n",
    "    xs_t, ys_t = prepare_batch(xs_train, ys_train, u, v)\n",
    "    xs_v, ys_v = prepare_batch(xs_val, ys_val, u, v)\n",
    "\n",
    "    new_train_loss, new_grad_norm = train_step(model, optimizer, xs_t, ys_t)\n",
    "    \n",
    "    model.eval() # Disable dropout in this block\n",
    "    new_train_loss_eval = eval_step(model, xs_t, ys_t)\n",
    "    new_val_loss = eval_step(model, xs_v, ys_v)\n",
    "    model.train()\n",
    "\n",
    "    if i == 0:\n",
    "        train_losses.append(new_train_loss)\n",
    "        train_losses_eval.append(new_train_loss_eval)\n",
    "        val_losses.append(new_val_loss)\n",
    "        grad_norms.append(new_grad_norm)\n",
    "    else:\n",
    "        train_losses.append(alpha * train_losses[-1] + (1 - alpha) * new_train_loss)\n",
    "        train_losses_eval.append(alpha * train_losses_eval[-1] + (1 - alpha) * new_train_loss_eval)\n",
    "        val_losses.append(alpha * val_losses[-1] + (1 - alpha) * new_val_loss)\n",
    "        grad_norms.append(alpha * grad_norms[-1] + (1 - alpha) * new_grad_norm)\n",
    "    \n",
    "    if (i + 1) % print_frequency == 0:\n",
    "        print(\n",
    "            f\"{(i + 1) * batch_size}: train loss {train_losses[-1]:.3f}, train eval loss {train_losses_eval[-1]:.3f},\",\n",
    "            f\"val loss {val_losses[-1]:.3f}, grad norm {grad_norms[-1]:.3f}\"\n",
    "        )\n",
    "\n",
    "# Save checkpoint\n",
    "with open(f\"checkpoints/modelcheck-{total}.pkl\", \"wb\") as f:\n",
    "    pickle.dump(nnx.state(model), f)"
   ]
  },
  {
   "cell_type": "code",
   "execution_count": 6,
   "metadata": {},
   "outputs": [
    {
     "data": {
      "image/png": "[encoded data removed]",
      "text/plain": [
       "<Figure size 640x480 with 2 Axes>"
      ]
     },
     "metadata": {},
     "output_type": "display_data"
    }
   ],
   "source": [
    "plot_step = 500\n",
    "\n",
    "%matplotlib inline\n",
    "fig, (ax_l, ax_r) = plt.subplots(1, 2)\n",
    "ax_l.plot(batch_size * np.arange(0, total, 500), train_losses[::plot_step], label = \"train\")\n",
    "ax_l.plot(batch_size * np.arange(0, total, 500), train_losses_eval[::plot_step], label = \"train eval\")\n",
    "ax_l.plot(batch_size * np.arange(0, total, 500), val_losses[::plot_step], label = \"val\")\n",
    "ax_r.plot(batch_size * np.arange(0, total, 500), grad_norms[::plot_step], label = \"grad norm\")\n",
    "ax_l.legend()\n",
    "ax_r.legend();"
   ]
  },
  {
   "cell_type": "code",
   "execution_count": 7,
   "metadata": {},
   "outputs": [
    {
     "name": "stdout",
     "output_type": "stream",
     "text": [
      "Final: test loss 1.04148\n"
     ]
    }
   ],
   "source": [
    "# Report test error\n",
    "\n",
    "# Load checkpoint (not necessary if training loop was executed)\n",
    "model = m.ConvNet(rngs = nnx.Rngs(42))\n",
    "with open(f\"checkpoints/modelcheck-{total}.pkl\", \"rb\") as f:\n",
    "    state = pickle.load(f)\n",
    "nnx.update(model, state)\n",
    "\n",
    "loop_num = xs_test.shape[0] // batch_size\n",
    "test_loss = 0\n",
    "\n",
    "model.eval() # Disable dropout\n",
    "\n",
    "for i in range(loop_num):\n",
    "    u, v = i * batch_size, (i + 1) * batch_size\n",
    "    xs, ys = prepare_batch(xs_test, ys_test, u, v)\n",
    "    test_loss += eval_step(model, xs, ys)\n",
    "\n",
    "test_loss /= loop_num\n",
    "\n",
    "print(f\"Final: test loss {test_loss:.5f}\")"
   ]
  },
  {
   "cell_type": "code",
   "execution_count": 8,
   "metadata": {},
   "outputs": [
    {
     "name": "stdout",
     "output_type": "stream",
     "text": [
      "Result: [35, 9, 127, 374, 379, 760, 771, 392, 49, 198]\n"
     ]
    }
   ],
   "source": [
    "# Run example to compare to Rust inference code\n",
    "\n",
    "x = 1e-4 * np.arange(0, 64 * 64)\n",
    "x = np.reshape(x, (1, 64, 64, 1))\n",
    "x = nnx.softmax(model(x))\n",
    "ordered = list(range(825))\n",
    "ordered.sort(key = lambda i: x[0, i], reverse = True)        \n",
    "print(f\"Result: {ordered[:10]}\")"
   ]
  }
 ],
 "metadata": {
  "kernelspec": {
   "display_name": "venv",
   "language": "python",
   "name": "python3"
  },
  "language_info": {
   "codemirror_mode": {
    "name": "ipython",
    "version": 3
   },
   "file_extension": ".py",
   "mimetype": "text/x-python",
   "name": "python",
   "nbconvert_exporter": "python",
   "pygments_lexer": "ipython3",
   "version": "3.12.3"
  }
 },
 "nbformat": 4,
 "nbformat_minor": 2
}
